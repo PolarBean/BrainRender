{
 "cells": [
  {
   "cell_type": "markdown",
   "metadata": {},
   "source": [
    "# Tractography\n",
    "\n",
    "Tractography data allows users to visualize afferent projections to a brain region of interest. \n",
    "For instance, these are the tractography data for injection experiments performed as part of the Allen Mouse Connectome project in which projections to the Zona Incerta were found:\n",
    "\n",
    "<img src=\"https://raw.githubusercontent.com/BrancoLab/BrainRender/master/Docs/Media/tractography.png\" width=\"600\" height=\"350\">\n",
    "\n",
    "\n",
    "\n",
    "\n",
    "### Set up"
   ]
  },
  {
   "cell_type": "code",
   "execution_count": null,
   "metadata": {},
   "outputs": [],
   "source": [
    "# We begin by adding the current path to sys.path to make sure that the imports work correctly\n",
    "import sys\n",
    "sys.path.append('../')\n",
    "import os\n",
    "\n",
    "# Set up VTKPLOTTER to work in Jupyter notebooks\n",
    "from vtkplotter import *\n",
    "\n",
    "\n",
    "# Imports from brainrender\n",
    "from brainrender.scene import Scene\n",
    "from brainrender.atlases.aba import ABA\n",
    "\n",
    "\n",
    "# initializing classes\n",
    "tutorial_scene = Scene()\n",
    "analyzer = ABA()\n"
   ]
  },
  {
   "cell_type": "markdown",
   "metadata": {},
   "source": [
    "### Tractography"
   ]
  },
  {
   "cell_type": "markdown",
   "metadata": {},
   "source": [
    "The tractography analysis allows you to load data from tracers injections experiments performed as part of the Allen Mouse Connectome project, and render the infered anatomical projection in 3D. To do so, we use the ABA class to interact with the Allen Brain Map API."
   ]
  },
  {
   "cell_type": "code",
   "execution_count": null,
   "metadata": {},
   "outputs": [],
   "source": [
    "# We can get the projections to a brain regions very simply.\n",
    "# First we get a point in the region of interest\n",
    "p0 = tutorial_scene.get_region_CenterOfMass(\"ZI\")\n",
    "\n",
    "# Then we se these coordinates to get tractography data, note: any set of X,Y,Z coordinates would do. \n",
    "tract = analyzer.get_projection_tracts_to_target(p0=p0)"
   ]
  },
  {
   "cell_type": "code",
   "execution_count": null,
   "metadata": {},
   "outputs": [],
   "source": [
    "# To display these projections, simply add them to a scene\n",
    "tutorial_scene = Scene()\n",
    "tutorial_scene.add_tractography(tract, display_injection_structure=False, color_by=\"region\")\n",
    "tutorial_scene.render()\n",
    "\n",
    "\n",
    "vp = Plotter(axes=0)\n",
    "vp.show(tutorial_scene.get_actors())\n",
    "\n",
    "# The result should look something like the screenshot at the start of this example. "
   ]
  },
  {
   "cell_type": "code",
   "execution_count": null,
   "metadata": {},
   "outputs": [],
   "source": [
    "# In the example above, the various tracts are coloroued by the Allen Brain Atlas default color of the injection\n",
    "# structure. But maybe we want them to all have the same color:\n",
    "tutorial_scene = Scene()\n",
    "tutorial_scene.add_tractography(tract, display_injection_structure=False, color_by=\"manual\", color=\"orange\")\n",
    "tutorial_scene.render()\n",
    "\n",
    "vp = Plotter(axes=0)\n",
    "vp.show(tutorial_scene.get_actors())"
   ]
  },
  {
   "cell_type": "markdown",
   "metadata": {},
   "source": [
    "Note that if you are trying to figure out the best way to show the projections, you don't have to download\n",
    "the tractography data every time. "
   ]
  },
  {
   "cell_type": "code",
   "execution_count": null,
   "metadata": {},
   "outputs": [],
   "source": [
    "# You can also color the tractography data to make sure that projections from a structure of interest are highlighted\n",
    "tutorial_scene = Scene()\n",
    "tutorial_scene.add_tractography(tract, display_injection_structure=False, color_by=\"target_region\", \n",
    "                                VIP_regions=['MOs'], VIP_color=\"red\", others_color=\"ivory\"\n",
    "                               )\n",
    "tutorial_scene.render()\n",
    "\n",
    "vp = Plotter(axes=0)\n",
    "vp.show(tutorial_scene.get_actors())"
   ]
  },
  {
   "cell_type": "code",
   "execution_count": null,
   "metadata": {},
   "outputs": [],
   "source": [
    "# You can also show the brain structures projecting to your target brain region\n",
    "tract = analyzer.get_projection_tracts_to_target(\"CA1\") \n",
    "tutorial_scene = Scene()\n",
    "tutorial_scene.add_tractography(tract, display_injection_structure=True, color_by=\"region\")\n",
    "tutorial_scene.render()\n",
    "\n",
    "vp = Plotter(axes=0)\n",
    "vp.show(tutorial_scene.get_actors())"
   ]
  },
  {
   "cell_type": "markdown",
   "metadata": {},
   "source": [
    "Don't forget to check the other examples to lear more about how to use brainrender to make amazing 3D renderings!\n",
    "Also, you can find a list of variables you can play around with in brainrender.variables.py\n",
    "Playing around with these variables will allow you to make the rendering look exactly how you want them to be. "
   ]
  }
 ],
 "metadata": {
  "file_extension": ".py",
  "kernelspec": {
   "display_name": "Python 3",
   "language": "python",
   "name": "python3"
  },
  "language_info": {
   "codemirror_mode": {
    "name": "ipython",
    "version": 3
   },
   "file_extension": ".py",
   "mimetype": "text/x-python",
   "name": "python",
   "nbconvert_exporter": "python",
   "pygments_lexer": "ipython3",
   "version": "3.7.5"
  },
  "mimetype": "text/x-python",
  "name": "python",
  "npconvert_exporter": "python",
  "pygments_lexer": "ipython3",
  "version": 3
 },
 "nbformat": 4,
 "nbformat_minor": 2
}