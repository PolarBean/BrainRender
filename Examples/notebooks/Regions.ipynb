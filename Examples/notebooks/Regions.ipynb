{
 "cells": [
  {
   "cell_type": "markdown",
   "metadata": {},
   "source": [
    "# Regions tutorial\n",
    "\n",
    "### Set up"
   ]
  },
  {
   "cell_type": "code",
   "execution_count": null,
   "metadata": {},
   "outputs": [],
   "source": [
    "# We begin by adding the current path to sys.path to make sure that the imports work correctly\n",
    "import sys\n",
    "sys.path.append('../')\n",
    "import os\n",
    "\n",
    "# Set up VTKPLOTTER to work in Jupyter notebooks\n",
    "from vtkplotter import *\n",
    "\n",
    "# Import variables\n",
    "from brainrender import * # <- these can be changed to personalize the look of your renders\n",
    "\n",
    "# Import scene class\n",
    "from brainrender.scene import Scene"
   ]
  },
  {
   "cell_type": "markdown",
   "metadata": {},
   "source": [
    "## Add one or multiple regions to a scene"
   ]
  },
  {
   "cell_type": "code",
   "execution_count": null,
   "metadata": {},
   "outputs": [],
   "source": [
    "# Let's create our first scene!\n",
    "tutorial_scene = Scene(jupyter=True)\n",
    "tutorial_scene.add_brain_regions(['VISp'], colors='blue') # add the PAG to our scene\n",
    "# This will render the scene in a new window. \n",
    "# Press 'Esc' to close it.\n",
    "tutorial_scene.render()\n",
    "\n",
    "vp = Plotter(axes=0)\n",
    "vp.show(tutorial_scene.get_actors(), viewup=(10, 0.7, 0))"
   ]
  },
  {
   "cell_type": "code",
   "execution_count": null,
   "metadata": {},
   "outputs": [],
   "source": [
    "# Have a look at which structures are available\n",
    "tutorial_scene.print_structures()"
   ]
  },
  {
   "cell_type": "code",
   "execution_count": null,
   "metadata": {},
   "outputs": [],
   "source": [
    "# Let's get an idea of what the hippocampus looks like\n",
    "# Let's create our first scene!\n",
    "tutorial_scene = Scene(jupyter=True)\n",
    "tutorial_scene.add_brain_regions(['CA1', 'CA2', 'CA3'], colors='blue') \n",
    "tutorial_scene.render()\n",
    "\n",
    "vp = Plotter(axes=0)\n",
    "vp.show(tutorial_scene.get_actors(), viewup=(10, 0.7, 0))"
   ]
  },
  {
   "cell_type": "code",
   "execution_count": null,
   "metadata": {},
   "outputs": [],
   "source": [
    "# Sometimes we want to highlight a specific structure, for that we have VIP structures\n",
    "tutorial_scene = Scene(jupyter=True)\n",
    "tutorial_scene.add_brain_regions(['CA1', 'CA2', 'CA3'], colors='blue', VIP_regions=['CA1'], VIP_color='magenta') \n",
    "tutorial_scene.render()\n",
    "\n",
    "vp = Plotter(axes=0)\n",
    "vp.show(tutorial_scene.get_actors(), viewup=(10, 0.7, 0))"
   ]
  },
  {
   "cell_type": "code",
   "execution_count": null,
   "metadata": {},
   "outputs": [],
   "source": [
    "# You can also use the Allen Brain Atlas original colors for the brain regions\n",
    "tutorial_scene = Scene(jupyter=True)\n",
    "tutorial_scene.add_brain_regions(['VISp', 'MOs', 'PO'], use_original_color=True) \n",
    "tutorial_scene.render()\n",
    "\n",
    "vp = Plotter(axes=0)\n",
    "vp.show(tutorial_scene.get_actors(), viewup=(10, 0.7, 0))"
   ]
  },
  {
   "cell_type": "code",
   "execution_count": null,
   "metadata": {},
   "outputs": [],
   "source": [
    "# Of course, you don't ahve to show the whole brain everytime\n",
    "tutorial_scene = Scene(jupyter=True, add_root=False, display_inset=True)\n",
    "tutorial_scene.add_brain_regions(['PO', 'IAD', 'IAM'], use_original_color=True) \n",
    "tutorial_scene.render()\n",
    "\n",
    "vp = Plotter(axes=0)\n",
    "vp.show(tutorial_scene.get_actors(), viewup=(10, 0.7, 0))"
   ]
  },
  {
   "cell_type": "code",
   "execution_count": null,
   "metadata": {},
   "outputs": [],
   "source": [
    "# And of course you can render brain structures in combination with neurons and tractography data \n",
    "tutorial_scene = Scene(jupyter=True, add_root=False, display_inset=True)\n",
    "tutorial_scene.add_brain_regions(['MOs'], use_original_color=True, alpha=.4) # Add make the brain structures semi-transparent ;)\n",
    "\n",
    "neurons_file = \"Examples/example_files/one_neuron.json\"\n",
    "tutorial_scene.add_neurons(neurons_file, soma_color='red', color_neurites=False, neurite_radius=35)\n",
    "\n",
    "tutorial_scene.render()\n",
    "\n",
    "vp = Plotter(axes=0)\n",
    "vp.show(tutorial_scene.get_actors(), viewup=(10, 0.7, 0))"
   ]
  },
  {
   "cell_type": "markdown",
   "metadata": {},
   "source": [
    "Don't forget to check the other examples to lear more about how to use brainrender to make amazing 3D renderings!\n",
    "Also, you can find a list of variables you can play around with in brainrender.variables.py\n",
    "Playing around with these variables will allow you to make the rendering look exactly how you want them to be. "
   ]
  }
 ],
 "metadata": {
  "kernelspec": {
   "display_name": "Python 3",
   "language": "python",
   "name": "python3"
  },
  "language_info": {
   "codemirror_mode": {
    "name": "ipython",
    "version": 3
   },
   "file_extension": ".py",
   "mimetype": "text/x-python",
   "name": "python",
   "nbconvert_exporter": "python",
   "pygments_lexer": "ipython3",
   "version": "3.7.5"
  }
 },
 "nbformat": 4,
 "nbformat_minor": 2
}