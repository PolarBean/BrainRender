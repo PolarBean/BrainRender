{
 "cells": [
  {
   "cell_type": "markdown",
   "metadata": {},
   "source": [
    "## Brainrender in Jupyter\n",
    "This tutorial will show you how to create and render a brainrender scene in a Jupyter notebook."
   ]
  },
  {
   "cell_type": "code",
   "execution_count": null,
   "metadata": {},
   "outputs": [],
   "source": [
    "from vtkplotter import *\n",
    "# embedWindow(False) # Uncomment this option to open the scene in a different window\n",
    "# see: https://github.com/marcomusy/vtkplotter/blob/master/notebooks/tutorial.ipynb\n",
    "\n",
    "from brainrender.scene import Scene"
   ]
  },
  {
   "cell_type": "code",
   "execution_count": null,
   "metadata": {},
   "outputs": [],
   "source": [
    "# Create the scene, populate and preprare for rendering\n",
    "\n",
    "scene = Scene()\n",
    "\n",
    "# ... add code to populate the scene with more actors here\n",
    "\n",
    "scene.render() # ! <-- this will not actually render the scene, just prepare everything for rendering\n"
   ]
  },
  {
   "cell_type": "markdown",
   "metadata": {},
   "source": [
    "Rendering scene in a jupyter notebook works differently. Currently it is not possible to do so using the `scene.render` method. Instead you will need to create a new `vtkplotter.Plotter` and use that to render your scene.\n",
    "\n",
    "This will render your scene in an interactive manner. "
   ]
  },
  {
   "cell_type": "code",
   "execution_count": null,
   "metadata": {},
   "outputs": [],
   "source": [
    "vp = Plotter()\n",
    "show(scene.get_actors())"
   ]
  }
 ],
 "metadata": {
  "kernelspec": {
   "display_name": "Python 3",
   "language": "python",
   "name": "python3"
  },
  "language_info": {
   "codemirror_mode": {
    "name": "ipython",
    "version": 3
   },
   "file_extension": ".py",
   "mimetype": "text/x-python",
   "name": "python",
   "nbconvert_exporter": "python",
   "pygments_lexer": "ipython3",
   "version": "3.7.5"
  }
 },
 "nbformat": 4,
 "nbformat_minor": 2
}