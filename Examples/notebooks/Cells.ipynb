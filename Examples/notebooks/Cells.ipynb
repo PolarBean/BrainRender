{
 "cells": [
  {
   "cell_type": "markdown",
   "execution_count": null,
   "metadata": {},
   "outputs": [],
   "source": [
    "# Cells\n",
    "In this examples I'll show how to render a large number of cells in your scene. \n",
    "This can be useful when visualizing the results of tracking experiments after they have been aligned to the allen brain atlas reference frame. \n",
    "\n",
    "<img src=\"https://raw.githubusercontent.com/BrancoLab/BrainRender/master/Docs/Media/cells.gif\" width=\"600\" height=\"350\">\n",
    "\n",
    "\n",
    "\n",
    "### set up"
   ]
  },
  {
   "cell_type": "code",
   "execution_count": null,
   "metadata": {},
   "outputs": [],
   "source": [
    "# We begin by adding the current path to sys.path to make sure that the imports work correctly\n",
    "import sys\n",
    "sys.path.append('../')\n",
    "import os\n",
    "import pandas as pd\n",
    "\n",
    "from vtkplotter import *\n",
    "\n",
    "# Import variables\n",
    "from brainrender import * # <- these can be changed to personalize the look of your renders\n",
    "\n",
    "# Import brainrender classes and useful functions\n",
    "from brainrender.scene import Scene\n",
    "from brainrender.Utils.data_io import listdir\n"
   ]
  },
  {
   "cell_type": "markdown",
   "execution_count": null,
   "metadata": {},
   "outputs": [],
   "source": [
    "## Get data\n",
    "To keep things interesting, we will generate N random \"cells\" in a number of regions of interest. \n",
    "These coordinates will then be used to render the cells. \n",
    "If you have your coordinates saved in a file (e.g. a .csv or .h5 or .pkl), you can use `Scene.add_cells_from_file` and skip this next step. "
   ]
  },
  {
   "cell_type": "code",
   "execution_count": null,
   "metadata": {},
   "outputs": [],
   "source": [
    "# Create a scene\n",
    "scene = Scene()\n",
    "\n",
    "# Define in which regions to crate the cells and how many\n",
    "regions = [\"MOs\", \"VISp\", \"ZI\"]\n",
    "N = 1000 # getting 1k cells per region, but brainrender can deal with >1M cells easily. \n",
    "\n",
    "# Render brain regions and add transparency slider.\n",
    "scene.add_brain_regions(regions, colors=\"ivory\", alpha=.8)\n",
    "scene.add_slider(brain_regions=regions)\n",
    "\n",
    "print(\"\\nRunning a quick experiment to get cell coordinates...\")\n",
    "cells = [] # to store x,y,z coordinates\n",
    "for region in regions:\n",
    "    region_cells = scene.get_n_random_points_in_region(region=region, N=N)\n",
    "    cells.extend(region_cells)\n",
    "x,y,z = [c[0] for c in cells], [c[1] for c in cells], [c[2] for c in cells]\n",
    "cells = pd.DataFrame(dict(x=x, y=y, z=z))\n",
    "# render cells\n",
    "print(\"\\nRendering...\")\n",
    "scene.add_cells(cells, color=\"red\")\n",
    "scene.render() # <- this wont actually render things in a notebook"
   ]
  },
  {
   "cell_type": "code",
   "execution_count": null,
   "metadata": {},
   "outputs": [],
   "source": [
    "vp = Plotter(axes=0)\n",
    "vp.show(scene.get_actors())"
   ]
  }
 ],
 "metadata": {
  "kernelspec": {
   "display_name": "Python 3",
   "language": "python",
   "name": "python3"
  },
  "language_info": {
   "codemirror_mode": {
    "name": "ipython",
    "version": 3
   },
   "file_extension": ".py",
   "mimetype": "text/x-python",
   "name": "python",
   "nbconvert_exporter": "python",
   "pygments_lexer": "ipython3",
   "version": "3.7.5-final"
  }
 },
 "nbformat": 4,
 "nbformat_minor": 2
}