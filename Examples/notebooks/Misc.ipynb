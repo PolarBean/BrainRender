{
 "cells": [
  {
   "cell_type": "markdown",
   "metadata": {},
   "source": [
    "# Miscellaneous\n",
    "Collection of useful functions and tricks to get the most out of brainrender\n",
    "\n",
    "### Set up"
   ]
  },
  {
   "cell_type": "code",
   "execution_count": null,
   "metadata": {},
   "outputs": [],
   "source": [
    "# We begin by adding the current path to sys.path to make sure that the imports work correctly\n",
    "import sys\n",
    "sys.path.append('../')\n",
    "import os\n",
    "\n",
    "# Set up VTKPLOTTER to work in Jupyter notebooks\n",
    "from vtkplotter import *\n",
    "\n",
    "# Import variables\n",
    "from brainrender import * # <- these can be changed to personalize the look of your renders\n",
    "\n",
    "# Import brainrender classes and useful functions\n",
    "from brainrender.scene import Scene"
   ]
  },
  {
   "cell_type": "markdown",
   "metadata": {},
   "source": [
    "## Camera\n",
    "\n",
    "To specify the orientation of the camera in a `brainrender` scene, pass the name of the camera when creating an instance of `Scene`.\n",
    "\n",
    "The default cameras supported in `brainrender` are: `three_quarters` (default), `sagittal`, `coronal` and `top`.\n",
    "But you can also pass a dictionary instead of the camera name, just make sure that the dictionary has the correct camera parameters (check `brainrender.camera.py`)."
   ]
  },
  {
   "cell_type": "code",
   "execution_count": null,
   "metadata": {},
   "outputs": [],
   "source": [
    "scene = Scene(jupyter=True, camera='sagittal')\n",
    "scene.add_brain_regions(['TH'], use_default_colors=True)\n",
    "\n",
    "# ... render"
   ]
  },
  {
   "cell_type": "markdown",
   "metadata": {},
   "source": [
    "### Edit actors\n",
    "You can change the look of actors very easily. Check `brainrender.Utils.actors_funcs.py` for more options. "
   ]
  },
  {
   "cell_type": "code",
   "execution_count": null,
   "metadata": {},
   "outputs": [],
   "source": [
    "scene = Scene(jupyter=True)\n",
    "\n",
    "scene.add_brain_regions(['MOs', 'MOp'], colors='red')\n",
    "scene.edit_actors([scene.actors['regions']['MOs']], wireframe=True)\n",
    "\n",
    "# ... render"
   ]
  },
  {
   "cell_type": "markdown",
   "metadata": {},
   "source": [
    "### Useful functions\n",
    "\n",
    "`Scene.get_n_random_points_in_region` let's you generate N random points in a brain region. It can be usefull when working with tractography data. For large brain regions projections to different locations within the region might differ, this function lets you sample the target region more copmletely. \n",
    "\n",
    "`Scene.edit_neurons` Can be used to edit neuron actors (e.g. mirror them across hemispheres). To get the neurons actors just use `Scene.actors['neurons']`."
   ]
  }
 ],
 "metadata": {
  "kernelspec": {
   "display_name": "Python 3",
   "language": "python",
   "name": "python3"
  },
  "language_info": {
   "codemirror_mode": {
    "name": "ipython",
    "version": 3
   },
   "file_extension": ".py",
   "mimetype": "text/x-python",
   "name": "python",
   "nbconvert_exporter": "python",
   "pygments_lexer": "ipython3",
   "version": "3.7.5"
  }
 },
 "nbformat": 4,
 "nbformat_minor": 2
}